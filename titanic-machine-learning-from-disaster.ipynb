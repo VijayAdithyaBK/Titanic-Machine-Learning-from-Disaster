{
 "cells": [
  {
   "cell_type": "code",
   "execution_count": 1,
   "id": "49311c20",
   "metadata": {
    "_cell_guid": "b1076dfc-b9ad-4769-8c92-a6c4dae69d19",
    "_uuid": "8f2839f25d086af736a60e9eeb907d3b93b6e0e5",
    "execution": {
     "iopub.execute_input": "2024-12-15T18:34:35.454618Z",
     "iopub.status.busy": "2024-12-15T18:34:35.454098Z",
     "iopub.status.idle": "2024-12-15T18:34:38.566651Z",
     "shell.execute_reply": "2024-12-15T18:34:38.565514Z"
    },
    "papermill": {
     "duration": 3.12118,
     "end_time": "2024-12-15T18:34:38.569082",
     "exception": false,
     "start_time": "2024-12-15T18:34:35.447902",
     "status": "completed"
    },
    "tags": []
   },
   "outputs": [],
   "source": [
    "# Import necessary libraries\n",
    "import pandas as pd\n",
    "import numpy as np\n",
    "import matplotlib.pyplot as plt\n",
    "import seaborn as sns\n",
    "from sklearn.model_selection import train_test_split\n",
    "from sklearn.ensemble import RandomForestClassifier\n",
    "from sklearn.metrics import accuracy_score"
   ]
  },
  {
   "cell_type": "code",
   "execution_count": 2,
   "id": "78507b21",
   "metadata": {
    "execution": {
     "iopub.execute_input": "2024-12-15T18:34:38.579899Z",
     "iopub.status.busy": "2024-12-15T18:34:38.578749Z",
     "iopub.status.idle": "2024-12-15T18:34:38.608124Z",
     "shell.execute_reply": "2024-12-15T18:34:38.606937Z"
    },
    "papermill": {
     "duration": 0.03724,
     "end_time": "2024-12-15T18:34:38.610713",
     "exception": false,
     "start_time": "2024-12-15T18:34:38.573473",
     "status": "completed"
    },
    "tags": []
   },
   "outputs": [],
   "source": [
    "# Load datasets\n",
    "train_data = pd.read_csv(\"/kaggle/input/titanic/train.csv\")\n",
    "test_data = pd.read_csv(\"/kaggle/input/titanic/test.csv\")"
   ]
  },
  {
   "cell_type": "code",
   "execution_count": 3,
   "id": "0aad7708",
   "metadata": {
    "execution": {
     "iopub.execute_input": "2024-12-15T18:34:38.620600Z",
     "iopub.status.busy": "2024-12-15T18:34:38.620198Z",
     "iopub.status.idle": "2024-12-15T18:34:38.677334Z",
     "shell.execute_reply": "2024-12-15T18:34:38.676114Z"
    },
    "papermill": {
     "duration": 0.06482,
     "end_time": "2024-12-15T18:34:38.679791",
     "exception": false,
     "start_time": "2024-12-15T18:34:38.614971",
     "status": "completed"
    },
    "tags": []
   },
   "outputs": [
    {
     "name": "stdout",
     "output_type": "stream",
     "text": [
      "<class 'pandas.core.frame.DataFrame'>\n",
      "RangeIndex: 891 entries, 0 to 890\n",
      "Data columns (total 12 columns):\n",
      " #   Column       Non-Null Count  Dtype  \n",
      "---  ------       --------------  -----  \n",
      " 0   PassengerId  891 non-null    int64  \n",
      " 1   Survived     891 non-null    int64  \n",
      " 2   Pclass       891 non-null    int64  \n",
      " 3   Name         891 non-null    object \n",
      " 4   Sex          891 non-null    object \n",
      " 5   Age          714 non-null    float64\n",
      " 6   SibSp        891 non-null    int64  \n",
      " 7   Parch        891 non-null    int64  \n",
      " 8   Ticket       891 non-null    object \n",
      " 9   Fare         891 non-null    float64\n",
      " 10  Cabin        204 non-null    object \n",
      " 11  Embarked     889 non-null    object \n",
      "dtypes: float64(2), int64(5), object(5)\n",
      "memory usage: 83.7+ KB\n",
      "None\n",
      "       PassengerId    Survived      Pclass         Age       SibSp  \\\n",
      "count   891.000000  891.000000  891.000000  714.000000  891.000000   \n",
      "mean    446.000000    0.383838    2.308642   29.699118    0.523008   \n",
      "std     257.353842    0.486592    0.836071   14.526497    1.102743   \n",
      "min       1.000000    0.000000    1.000000    0.420000    0.000000   \n",
      "25%     223.500000    0.000000    2.000000   20.125000    0.000000   \n",
      "50%     446.000000    0.000000    3.000000   28.000000    0.000000   \n",
      "75%     668.500000    1.000000    3.000000   38.000000    1.000000   \n",
      "max     891.000000    1.000000    3.000000   80.000000    8.000000   \n",
      "\n",
      "            Parch        Fare  \n",
      "count  891.000000  891.000000  \n",
      "mean     0.381594   32.204208  \n",
      "std      0.806057   49.693429  \n",
      "min      0.000000    0.000000  \n",
      "25%      0.000000    7.910400  \n",
      "50%      0.000000   14.454200  \n",
      "75%      0.000000   31.000000  \n",
      "max      6.000000  512.329200  \n",
      "   PassengerId  Survived  Pclass  \\\n",
      "0            1         0       3   \n",
      "1            2         1       1   \n",
      "2            3         1       3   \n",
      "3            4         1       1   \n",
      "4            5         0       3   \n",
      "\n",
      "                                                Name     Sex   Age  SibSp  \\\n",
      "0                            Braund, Mr. Owen Harris    male  22.0      1   \n",
      "1  Cumings, Mrs. John Bradley (Florence Briggs Th...  female  38.0      1   \n",
      "2                             Heikkinen, Miss. Laina  female  26.0      0   \n",
      "3       Futrelle, Mrs. Jacques Heath (Lily May Peel)  female  35.0      1   \n",
      "4                           Allen, Mr. William Henry    male  35.0      0   \n",
      "\n",
      "   Parch            Ticket     Fare Cabin Embarked  \n",
      "0      0         A/5 21171   7.2500   NaN        S  \n",
      "1      0          PC 17599  71.2833   C85        C  \n",
      "2      0  STON/O2. 3101282   7.9250   NaN        S  \n",
      "3      0            113803  53.1000  C123        S  \n",
      "4      0            373450   8.0500   NaN        S  \n"
     ]
    }
   ],
   "source": [
    "# Step 1: EDA\n",
    "print(train_data.info())\n",
    "print(train_data.describe())\n",
    "print(train_data.head())"
   ]
  },
  {
   "cell_type": "markdown",
   "id": "23e5aedf",
   "metadata": {
    "papermill": {
     "duration": 0.003871,
     "end_time": "2024-12-15T18:34:38.687945",
     "exception": false,
     "start_time": "2024-12-15T18:34:38.684074",
     "status": "completed"
    },
    "tags": []
   },
   "source": [
    "The output shows the structure and summary statistics of the Titanic dataset, providing insights for the data preprocessing and feature engineering steps. Here's how we should proceed based on this information:\r\n",
    "\r\n",
    "### Observations:\r\n",
    "1. **Missing Values:**\r\n",
    "   - `Age`: 714 non-null values (177 missing values).\r\n",
    "   - `Cabin`: Only 204 non-null values (majority missing).\r\n",
    "   - `Embarked`: 889 non-null values (2 missing values).\r\n",
    "\r\n",
    "2. **Categorical Data:**\r\n",
    "   - Columns like `Name`, `Sex`, `Ticket`, `Cabin`, and `Embarked` need encoding or dropping if irrelevant.\r\n",
    "\r\n",
    "3. **Numerical Data:**\r\n",
    "   - Columns like `Age`, `Fare`, `SibSp`, and `Parch` need scaling or processing for missing values.\r\n",
    "\r\n",
    "4. **Target Column:**\r\n",
    "   - `Survived` is binary and will be the target variable vely and train a model with high accuracy. Let me know if you need further clarification or modifications!"
   ]
  },
  {
   "cell_type": "code",
   "execution_count": 4,
   "id": "df6104d1",
   "metadata": {
    "execution": {
     "iopub.execute_input": "2024-12-15T18:34:38.699342Z",
     "iopub.status.busy": "2024-12-15T18:34:38.698321Z",
     "iopub.status.idle": "2024-12-15T18:34:39.157820Z",
     "shell.execute_reply": "2024-12-15T18:34:39.156681Z"
    },
    "papermill": {
     "duration": 0.466892,
     "end_time": "2024-12-15T18:34:39.160039",
     "exception": false,
     "start_time": "2024-12-15T18:34:38.693147",
     "status": "completed"
    },
    "tags": []
   },
   "outputs": [
    {
     "data": {
      "image/png": "[encoded data removed]",
      "text/plain": [
       "<Figure size 640x480 with 1 Axes>"
      ]
     },
     "metadata": {},
     "output_type": "display_data"
    }
   ],
   "source": [
    "# Visualizing missing data\n",
    "sns.heatmap(train_data.isnull(), cbar=False, cmap='viridis')\n",
    "plt.title(\"Missing Values in Training Data\")\n",
    "plt.show()"
   ]
  },
  {
   "cell_type": "code",
   "execution_count": 5,
   "id": "cb8281a6",
   "metadata": {
    "execution": {
     "iopub.execute_input": "2024-12-15T18:34:39.171638Z",
     "iopub.status.busy": "2024-12-15T18:34:39.171253Z",
     "iopub.status.idle": "2024-12-15T18:34:39.382148Z",
     "shell.execute_reply": "2024-12-15T18:34:39.380999Z"
    },
    "papermill": {
     "duration": 0.219209,
     "end_time": "2024-12-15T18:34:39.384323",
     "exception": false,
     "start_time": "2024-12-15T18:34:39.165114",
     "status": "completed"
    },
    "tags": []
   },
   "outputs": [
    {
     "data": {
      "image/png": "[encoded data removed]",
      "text/plain": [
       "<Figure size 640x480 with 1 Axes>"
      ]
     },
     "metadata": {},
     "output_type": "display_data"
    }
   ],
   "source": [
    "# Survival distribution\n",
    "sns.countplot(data=train_data, x='Survived')\n",
    "plt.title(\"Survival Count\")\n",
    "plt.show()"
   ]
  },
  {
   "cell_type": "code",
   "execution_count": 6,
   "id": "ddbfb977",
   "metadata": {
    "execution": {
     "iopub.execute_input": "2024-12-15T18:34:39.396187Z",
     "iopub.status.busy": "2024-12-15T18:34:39.395797Z",
     "iopub.status.idle": "2024-12-15T18:34:39.562213Z",
     "shell.execute_reply": "2024-12-15T18:34:39.560990Z"
    },
    "papermill": {
     "duration": 0.174839,
     "end_time": "2024-12-15T18:34:39.564386",
     "exception": false,
     "start_time": "2024-12-15T18:34:39.389547",
     "status": "completed"
    },
    "tags": []
   },
   "outputs": [
    {
     "data": {
      "image/png": "[encoded data removed]",
      "text/plain": [
       "<Figure size 640x480 with 1 Axes>"
      ]
     },
     "metadata": {},
     "output_type": "display_data"
    }
   ],
   "source": [
    "# Gender and survival\n",
    "sns.countplot(data=train_data, x='Survived', hue='Sex')\n",
    "plt.title(\"Survival Count by Gender\")\n",
    "plt.show()"
   ]
  },
  {
   "cell_type": "code",
   "execution_count": 7,
   "id": "4743df43",
   "metadata": {
    "execution": {
     "iopub.execute_input": "2024-12-15T18:34:39.577416Z",
     "iopub.status.busy": "2024-12-15T18:34:39.577037Z",
     "iopub.status.idle": "2024-12-15T18:34:39.584882Z",
     "shell.execute_reply": "2024-12-15T18:34:39.584107Z"
    },
    "papermill": {
     "duration": 0.016794,
     "end_time": "2024-12-15T18:34:39.586786",
     "exception": false,
     "start_time": "2024-12-15T18:34:39.569992",
     "status": "completed"
    },
    "tags": []
   },
   "outputs": [],
   "source": [
    "# Step 2: Data Preprocessing\n",
    "# Fill missing Age with median\n",
    "train_data['Age'] = train_data['Age'].fillna(train_data['Age'].median())\n",
    "test_data['Age'] = test_data['Age'].fillna(test_data['Age'].median())"
   ]
  },
  {
   "cell_type": "code",
   "execution_count": 8,
   "id": "2472b075",
   "metadata": {
    "execution": {
     "iopub.execute_input": "2024-12-15T18:34:39.599721Z",
     "iopub.status.busy": "2024-12-15T18:34:39.598979Z",
     "iopub.status.idle": "2024-12-15T18:34:39.606293Z",
     "shell.execute_reply": "2024-12-15T18:34:39.605174Z"
    },
    "papermill": {
     "duration": 0.015891,
     "end_time": "2024-12-15T18:34:39.608258",
     "exception": false,
     "start_time": "2024-12-15T18:34:39.592367",
     "status": "completed"
    },
    "tags": []
   },
   "outputs": [],
   "source": [
    "# Fill missing Embarked with mode\n",
    "train_data['Embarked'] = train_data['Embarked'].fillna(train_data['Embarked'].mode()[0])\n",
    "test_data['Embarked'] = test_data['Embarked'].fillna(test_data['Embarked'].mode()[0])"
   ]
  },
  {
   "cell_type": "code",
   "execution_count": 9,
   "id": "f742e70d",
   "metadata": {
    "execution": {
     "iopub.execute_input": "2024-12-15T18:34:39.620677Z",
     "iopub.status.busy": "2024-12-15T18:34:39.620225Z",
     "iopub.status.idle": "2024-12-15T18:34:39.626134Z",
     "shell.execute_reply": "2024-12-15T18:34:39.625264Z"
    },
    "papermill": {
     "duration": 0.014344,
     "end_time": "2024-12-15T18:34:39.628118",
     "exception": false,
     "start_time": "2024-12-15T18:34:39.613774",
     "status": "completed"
    },
    "tags": []
   },
   "outputs": [],
   "source": [
    "# Fill missing Fare in test data with median\n",
    "test_data['Fare'] = test_data['Fare'].fillna(test_data['Fare'].median())"
   ]
  },
  {
   "cell_type": "code",
   "execution_count": 10,
   "id": "4ecf41d4",
   "metadata": {
    "execution": {
     "iopub.execute_input": "2024-12-15T18:34:39.640436Z",
     "iopub.status.busy": "2024-12-15T18:34:39.640048Z",
     "iopub.status.idle": "2024-12-15T18:34:39.650824Z",
     "shell.execute_reply": "2024-12-15T18:34:39.649697Z"
    },
    "papermill": {
     "duration": 0.019254,
     "end_time": "2024-12-15T18:34:39.652901",
     "exception": false,
     "start_time": "2024-12-15T18:34:39.633647",
     "status": "completed"
    },
    "tags": []
   },
   "outputs": [],
   "source": [
    "# Drop Cabin (too many missing values) and Ticket (irrelevant) columns\n",
    "train_data.drop(['Cabin', 'Ticket'], axis=1, inplace=True)\n",
    "test_data.drop(['Cabin', 'Ticket'], axis=1, inplace=True)"
   ]
  },
  {
   "cell_type": "code",
   "execution_count": 11,
   "id": "d02c3d46",
   "metadata": {
    "execution": {
     "iopub.execute_input": "2024-12-15T18:34:39.665283Z",
     "iopub.status.busy": "2024-12-15T18:34:39.664931Z",
     "iopub.status.idle": "2024-12-15T18:34:39.677642Z",
     "shell.execute_reply": "2024-12-15T18:34:39.676723Z"
    },
    "papermill": {
     "duration": 0.021598,
     "end_time": "2024-12-15T18:34:39.679942",
     "exception": false,
     "start_time": "2024-12-15T18:34:39.658344",
     "status": "completed"
    },
    "tags": []
   },
   "outputs": [],
   "source": [
    "# Convert categorical columns to numerical\n",
    "train_data = pd.get_dummies(train_data, columns=['Sex', 'Embarked'], drop_first=True)\n",
    "test_data = pd.get_dummies(test_data, columns=['Sex', 'Embarked'], drop_first=True)"
   ]
  },
  {
   "cell_type": "code",
   "execution_count": 12,
   "id": "99225a1d",
   "metadata": {
    "execution": {
     "iopub.execute_input": "2024-12-15T18:34:39.693039Z",
     "iopub.status.busy": "2024-12-15T18:34:39.692277Z",
     "iopub.status.idle": "2024-12-15T18:34:39.699769Z",
     "shell.execute_reply": "2024-12-15T18:34:39.698728Z"
    },
    "papermill": {
     "duration": 0.016223,
     "end_time": "2024-12-15T18:34:39.701948",
     "exception": false,
     "start_time": "2024-12-15T18:34:39.685725",
     "status": "completed"
    },
    "tags": []
   },
   "outputs": [],
   "source": [
    "# Step 3: Feature Engineering\n",
    "# Create FamilySize feature\n",
    "train_data['FamilySize'] = train_data['SibSp'] + train_data['Parch'] + 1\n",
    "test_data['FamilySize'] = test_data['SibSp'] + test_data['Parch'] + 1"
   ]
  },
  {
   "cell_type": "code",
   "execution_count": 13,
   "id": "db2cb4ac",
   "metadata": {
    "execution": {
     "iopub.execute_input": "2024-12-15T18:34:39.715574Z",
     "iopub.status.busy": "2024-12-15T18:34:39.714612Z",
     "iopub.status.idle": "2024-12-15T18:34:39.722356Z",
     "shell.execute_reply": "2024-12-15T18:34:39.721194Z"
    },
    "papermill": {
     "duration": 0.016472,
     "end_time": "2024-12-15T18:34:39.724495",
     "exception": false,
     "start_time": "2024-12-15T18:34:39.708023",
     "status": "completed"
    },
    "tags": []
   },
   "outputs": [],
   "source": [
    "# Drop Name and PassengerId from training data\n",
    "X = train_data.drop(['Name', 'PassengerId', 'Survived'], axis=1)\n",
    "y = train_data['Survived']\n",
    "test_ids = test_data['PassengerId']\n",
    "test_data = test_data.drop(['Name', 'PassengerId'], axis=1)"
   ]
  },
  {
   "cell_type": "code",
   "execution_count": 14,
   "id": "a6fe854e",
   "metadata": {
    "execution": {
     "iopub.execute_input": "2024-12-15T18:34:39.737128Z",
     "iopub.status.busy": "2024-12-15T18:34:39.736771Z",
     "iopub.status.idle": "2024-12-15T18:34:39.956564Z",
     "shell.execute_reply": "2024-12-15T18:34:39.955495Z"
    },
    "papermill": {
     "duration": 0.228787,
     "end_time": "2024-12-15T18:34:39.958891",
     "exception": false,
     "start_time": "2024-12-15T18:34:39.730104",
     "status": "completed"
    },
    "tags": []
   },
   "outputs": [
    {
     "data": {
      "text/html": [
       "<style>#sk-container-id-1 {color: black;background-color: white;}#sk-container-id-1 pre{padding: 0;}#sk-container-id-1 div.sk-toggleable {background-color: white;}#sk-container-id-1 label.sk-toggleable__label {cursor: pointer;display: block;width: 100%;margin-bottom: 0;padding: 0.3em;box-sizing: border-box;text-align: center;}#sk-container-id-1 label.sk-toggleable__label-arrow:before {content: \"▸\";float: left;margin-right: 0.25em;color: #696969;}#sk-container-id-1 label.sk-toggleable__label-arrow:hover:before {color: black;}#sk-container-id-1 div.sk-estimator:hover label.sk-toggleable__label-arrow:before {color: black;}#sk-container-id-1 div.sk-toggleable__content {max-height: 0;max-width: 0;overflow: hidden;text-align: left;background-color: #f0f8ff;}#sk-container-id-1 div.sk-toggleable__content pre {margin: 0.2em;color: black;border-radius: 0.25em;background-color: #f0f8ff;}#sk-container-id-1 input.sk-toggleable__control:checked~div.sk-toggleable__content {max-height: 200px;max-width: 100%;overflow: auto;}#sk-container-id-1 input.sk-toggleable__control:checked~label.sk-toggleable__label-arrow:before {content: \"▾\";}#sk-container-id-1 div.sk-estimator input.sk-toggleable__control:checked~label.sk-toggleable__label {background-color: #d4ebff;}#sk-container-id-1 div.sk-label input.sk-toggleable__control:checked~label.sk-toggleable__label {background-color: #d4ebff;}#sk-container-id-1 input.sk-hidden--visually {border: 0;clip: rect(1px 1px 1px 1px);clip: rect(1px, 1px, 1px, 1px);height: 1px;margin: -1px;overflow: hidden;padding: 0;position: absolute;width: 1px;}#sk-container-id-1 div.sk-estimator {font-family: monospace;background-color: #f0f8ff;border: 1px dotted black;border-radius: 0.25em;box-sizing: border-box;margin-bottom: 0.5em;}#sk-container-id-1 div.sk-estimator:hover {background-color: #d4ebff;}#sk-container-id-1 div.sk-parallel-item::after {content: \"\";width: 100%;border-bottom: 1px solid gray;flex-grow: 1;}#sk-container-id-1 div.sk-label:hover label.sk-toggleable__label {background-color: #d4ebff;}#sk-container-id-1 div.sk-serial::before {content: \"\";position: absolute;border-left: 1px solid gray;box-sizing: border-box;top: 0;bottom: 0;left: 50%;z-index: 0;}#sk-container-id-1 div.sk-serial {display: flex;flex-direction: column;align-items: center;background-color: white;padding-right: 0.2em;padding-left: 0.2em;position: relative;}#sk-container-id-1 div.sk-item {position: relative;z-index: 1;}#sk-container-id-1 div.sk-parallel {display: flex;align-items: stretch;justify-content: center;background-color: white;position: relative;}#sk-container-id-1 div.sk-item::before, #sk-container-id-1 div.sk-parallel-item::before {content: \"\";position: absolute;border-left: 1px solid gray;box-sizing: border-box;top: 0;bottom: 0;left: 50%;z-index: -1;}#sk-container-id-1 div.sk-parallel-item {display: flex;flex-direction: column;z-index: 1;position: relative;background-color: white;}#sk-container-id-1 div.sk-parallel-item:first-child::after {align-self: flex-end;width: 50%;}#sk-container-id-1 div.sk-parallel-item:last-child::after {align-self: flex-start;width: 50%;}#sk-container-id-1 div.sk-parallel-item:only-child::after {width: 0;}#sk-container-id-1 div.sk-dashed-wrapped {border: 1px dashed gray;margin: 0 0.4em 0.5em 0.4em;box-sizing: border-box;padding-bottom: 0.4em;background-color: white;}#sk-container-id-1 div.sk-label label {font-family: monospace;font-weight: bold;display: inline-block;line-height: 1.2em;}#sk-container-id-1 div.sk-label-container {text-align: center;}#sk-container-id-1 div.sk-container {/* jupyter's `normalize.less` sets `[hidden] { display: none; }` but bootstrap.min.css set `[hidden] { display: none !important; }` so we also need the `!important` here to be able to override the default hidden behavior on the sphinx rendered scikit-learn.org. See: https://github.com/scikit-learn/scikit-learn/issues/21755 */display: inline-block !important;position: relative;}#sk-container-id-1 div.sk-text-repr-fallback {display: none;}</style><div id=\"sk-container-id-1\" class=\"sk-top-container\"><div class=\"sk-text-repr-fallback\"><pre>RandomForestClassifier(random_state=42)</pre><b>In a Jupyter environment, please rerun this cell to show the HTML representation or trust the notebook. <br />On GitHub, the HTML representation is unable to render, please try loading this page with nbviewer.org.</b></div><div class=\"sk-container\" hidden><div class=\"sk-item\"><div class=\"sk-estimator sk-toggleable\"><input class=\"sk-toggleable__control sk-hidden--visually\" id=\"sk-estimator-id-1\" type=\"checkbox\" checked><label for=\"sk-estimator-id-1\" class=\"sk-toggleable__label sk-toggleable__label-arrow\">RandomForestClassifier</label><div class=\"sk-toggleable__content\"><pre>RandomForestClassifier(random_state=42)</pre></div></div></div></div></div>"
      ],
      "text/plain": [
       "RandomForestClassifier(random_state=42)"
      ]
     },
     "execution_count": 14,
     "metadata": {},
     "output_type": "execute_result"
    }
   ],
   "source": [
    "# Step 4: Model Training\n",
    "X_train, X_val, y_train, y_val = train_test_split(X, y, test_size=0.2, random_state=42)\n",
    "\n",
    "model = RandomForestClassifier(n_estimators=100, random_state=42)\n",
    "model.fit(X_train, y_train)"
   ]
  },
  {
   "cell_type": "code",
   "execution_count": 15,
   "id": "225bde66",
   "metadata": {
    "execution": {
     "iopub.execute_input": "2024-12-15T18:34:39.972569Z",
     "iopub.status.busy": "2024-12-15T18:34:39.971827Z",
     "iopub.status.idle": "2024-12-15T18:34:39.989526Z",
     "shell.execute_reply": "2024-12-15T18:34:39.988378Z"
    },
    "papermill": {
     "duration": 0.026909,
     "end_time": "2024-12-15T18:34:39.991798",
     "exception": false,
     "start_time": "2024-12-15T18:34:39.964889",
     "status": "completed"
    },
    "tags": []
   },
   "outputs": [
    {
     "name": "stdout",
     "output_type": "stream",
     "text": [
      "Validation Accuracy: 0.8324022346368715\n"
     ]
    }
   ],
   "source": [
    "# Validate the model\n",
    "y_pred = model.predict(X_val)\n",
    "print(\"Validation Accuracy:\", accuracy_score(y_val, y_pred))"
   ]
  },
  {
   "cell_type": "code",
   "execution_count": 16,
   "id": "5f1273f0",
   "metadata": {
    "execution": {
     "iopub.execute_input": "2024-12-15T18:34:40.006367Z",
     "iopub.status.busy": "2024-12-15T18:34:40.006020Z",
     "iopub.status.idle": "2024-12-15T18:34:40.026084Z",
     "shell.execute_reply": "2024-12-15T18:34:40.024952Z"
    },
    "papermill": {
     "duration": 0.029522,
     "end_time": "2024-12-15T18:34:40.028494",
     "exception": false,
     "start_time": "2024-12-15T18:34:39.998972",
     "status": "completed"
    },
    "tags": []
   },
   "outputs": [],
   "source": [
    "# Step 5: Make Predictions on Test Data\n",
    "test_predictions = model.predict(test_data)"
   ]
  },
  {
   "cell_type": "code",
   "execution_count": 17,
   "id": "44156036",
   "metadata": {
    "execution": {
     "iopub.execute_input": "2024-12-15T18:34:40.042768Z",
     "iopub.status.busy": "2024-12-15T18:34:40.041819Z",
     "iopub.status.idle": "2024-12-15T18:34:40.051031Z",
     "shell.execute_reply": "2024-12-15T18:34:40.049868Z"
    },
    "papermill": {
     "duration": 0.018544,
     "end_time": "2024-12-15T18:34:40.053017",
     "exception": false,
     "start_time": "2024-12-15T18:34:40.034473",
     "status": "completed"
    },
    "tags": []
   },
   "outputs": [
    {
     "name": "stdout",
     "output_type": "stream",
     "text": [
      "Submission file created!\n"
     ]
    }
   ],
   "source": [
    "# Step 6: Create Submission File\n",
    "submission = pd.DataFrame({\n",
    "    'PassengerId': test_ids,\n",
    "    'Survived': test_predictions\n",
    "})\n",
    "\n",
    "submission.to_csv(\"submission.csv\", index=False)\n",
    "print(\"Submission file created!\")"
   ]
  }
 ],
 "metadata": {
  "kaggle": {
   "accelerator": "none",
   "dataSources": [
    {
     "databundleVersionId": 26502,
     "sourceId": 3136,
     "sourceType": "competition"
    }
   ],
   "isGpuEnabled": false,
   "isInternetEnabled": true,
   "language": "python",
   "sourceType": "notebook"
  },
  "kernelspec": {
   "display_name": "Python 3",
   "language": "python",
   "name": "python3"
  },
  "language_info": {
   "codemirror_mode": {
    "name": "ipython",
    "version": 3
   },
   "file_extension": ".py",
   "mimetype": "text/x-python",
   "name": "python",
   "nbconvert_exporter": "python",
   "pygments_lexer": "ipython3",
   "version": "3.10.14"
  },
  "papermill": {
   "default_parameters": {},
   "duration": 8.048606,
   "end_time": "2024-12-15T18:34:40.780198",
   "environment_variables": {},
   "exception": null,
   "input_path": "__notebook__.ipynb",
   "output_path": "__notebook__.ipynb",
   "parameters": {},
   "start_time": "2024-12-15T18:34:32.731592",
   "version": "2.6.0"
  }
 },
 "nbformat": 4,
 "nbformat_minor": 5
}
